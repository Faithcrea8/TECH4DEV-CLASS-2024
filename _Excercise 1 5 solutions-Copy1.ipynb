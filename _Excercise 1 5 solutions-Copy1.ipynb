{
 "cells": [
  {
   "cell_type": "markdown",
   "id": "8d194017",
   "metadata": {},
   "source": [
    "1.\tWhat is the output of the following print statements?\n",
    " I.)print(\"\\ta\\tb\\tc\") "
   ]
  },
  {
   "cell_type": "code",
   "execution_count": 11,
   "id": "d1ac7e55",
   "metadata": {},
   "outputs": [
    {
     "name": "stdout",
     "output_type": "stream",
     "text": [
      "\ta\tb\tc\n"
     ]
    }
   ],
   "source": [
    "#the \\t means tab\n",
    "print(\"\\ta\\tb\\tc\")\n"
   ]
  },
  {
   "cell_type": "markdown",
   "id": "47065a60",
   "metadata": {},
   "source": [
    "ii.) print(\"\\\\\\\\\")"
   ]
  },
  {
   "cell_type": "code",
   "execution_count": 1,
   "id": "8fd3a6a9",
   "metadata": {},
   "outputs": [
    {
     "name": "stdout",
     "output_type": "stream",
     "text": [
      "\\\\\n"
     ]
    }
   ],
   "source": [
    "print(\"\\\\\\\\\")"
   ]
  },
  {
   "cell_type": "markdown",
   "id": "49f6fda8",
   "metadata": {},
   "source": [
    "iii.)print(\"'\")"
   ]
  },
  {
   "cell_type": "code",
   "execution_count": 2,
   "id": "7a8d3201",
   "metadata": {},
   "outputs": [
    {
     "name": "stdout",
     "output_type": "stream",
     "text": [
      "'\n"
     ]
    }
   ],
   "source": [
    "print(\"'\")"
   ]
  },
  {
   "cell_type": "markdown",
   "id": "44e50dca",
   "metadata": {},
   "source": [
    "iv.) print(\"\\\"\\\"\\\"\")"
   ]
  },
  {
   "cell_type": "code",
   "execution_count": 4,
   "id": "60a59e66",
   "metadata": {},
   "outputs": [
    {
     "name": "stdout",
     "output_type": "stream",
     "text": [
      "\"\"\"\n"
     ]
    }
   ],
   "source": [
    "print(\"\\\"\\\"\\\"\")"
   ]
  },
  {
   "cell_type": "markdown",
   "id": "79b9e918",
   "metadata": {},
   "source": [
    "v.) print(\"C:\\nin\\the downward spiral\")"
   ]
  },
  {
   "cell_type": "code",
   "execution_count": 5,
   "id": "3f2b4cfe",
   "metadata": {
    "scrolled": true
   },
   "outputs": [
    {
     "name": "stdout",
     "output_type": "stream",
     "text": [
      "C:\n",
      "in\the downward spiral\n"
     ]
    }
   ],
   "source": [
    "print(\"C:\\nin\\the downward spiral\")"
   ]
  },
  {
   "cell_type": "code",
   "execution_count": null,
   "id": "927a7923",
   "metadata": {},
   "outputs": [],
   "source": []
  },
  {
   "cell_type": "markdown",
   "id": "30f51417",
   "metadata": {},
   "source": [
    "2.\tWrite a print statement to produce this output:\n",
    "/ \\ // \\\\ /// \\\\\\\n"
   ]
  },
  {
   "cell_type": "code",
   "execution_count": 12,
   "id": "ac7cc61e",
   "metadata": {},
   "outputs": [
    {
     "name": "stdout",
     "output_type": "stream",
     "text": [
      "/ \\ // \\\\ /// \\\\\\\n"
     ]
    }
   ],
   "source": [
    "print(\"/ \\\\ // \\\\\\\\ /// \\\\\\\\\\\\\")"
   ]
  },
  {
   "cell_type": "code",
   "execution_count": null,
   "id": "0c53de91",
   "metadata": {},
   "outputs": [],
   "source": []
  },
  {
   "cell_type": "markdown",
   "id": "8f73ccec",
   "metadata": {},
   "source": [
    "3.\tWhat print statements will generate this output?\n",
    "This quote is from Irish poet Oscar Wilde:\n",
    "\"Music makes one feel so romantic\n",
    "\n",
    "- at least it always gets on one's nerves – which is the same thing nowadays.\"\n"
   ]
  },
  {
   "cell_type": "code",
   "execution_count": 16,
   "id": "4601e342",
   "metadata": {
    "scrolled": true
   },
   "outputs": [
    {
     "name": "stdout",
     "output_type": "stream",
     "text": [
      "This quote is from \n",
      "Irish poet Oscar Wilde:\n",
      "\"Music makes one feel so romantic\n",
      "- at least it always gets on one's nerves –\n",
      "which is the same thing nowadays.\"\n"
     ]
    }
   ],
   "source": [
    "print(\"This quote is from \\nIrish poet Oscar Wilde:\\n\\\"Music makes one feel so romantic\\n- at least it always gets on one's nerves –\\nwhich is the same thing nowadays.\\\"\")"
   ]
  },
  {
   "cell_type": "code",
   "execution_count": null,
   "id": "23125310",
   "metadata": {},
   "outputs": [],
   "source": []
  },
  {
   "cell_type": "markdown",
   "id": "4684a050",
   "metadata": {},
   "source": [
    "4.\tWhat print statements will generate this output?\n",
    "A \"quoted\" String is 'much' better if you learn\n",
    "the rules of \"escape sequences.\" Also, \"\" represents an empty String. Don't forget: use \\\" instead of \" ! '' is not the same as \"\n"
   ]
  },
  {
   "cell_type": "code",
   "execution_count": 22,
   "id": "7c7e6779",
   "metadata": {
    "scrolled": true
   },
   "outputs": [
    {
     "name": "stdout",
     "output_type": "stream",
     "text": [
      "A \"quoted\" String is\n",
      "'much' better if you learn\n",
      "the rules of \"escape sequences.\"\n",
      "Also, \"\" represents an empty String.\n",
      "Don't forget: use \\\" instead of \" !\n",
      "'' is not the same as \"   \n"
     ]
    }
   ],
   "source": [
    "print(\"A \\\"quoted\\\" String is\\n\\'much\\' better if you learn\\nthe rules of \\\"escape sequences.\\\"\\nAlso, \\\"\\\" represents an empty String.\\nDon't forget: use \\\\\\\" instead of \\\" !\\n\\'\\' is not the same as \\\"   \")"
   ]
  },
  {
   "cell_type": "code",
   "execution_count": null,
   "id": "c0274cc4",
   "metadata": {},
   "outputs": [],
   "source": []
  },
  {
   "cell_type": "markdown",
   "id": "281635f8",
   "metadata": {},
   "source": [
    "5.\tWhat values result from the following expressions?\n",
    "–\t9 / 5\n",
    "–\t695 % 20\n",
    "–\t7 + 6 * 5\n",
    "–\t7 * 6 + 5\n",
    "–\t248 % 100 / 5\n",
    "–\t6 * 3 - 9 / 4\n",
    "–\t(5 - 7) * 4\n",
    "–\t6 + (18 % (17 - 12))\n"
   ]
  },
  {
   "cell_type": "code",
   "execution_count": 23,
   "id": "cefdec7b",
   "metadata": {},
   "outputs": [
    {
     "name": "stdout",
     "output_type": "stream",
     "text": [
      "1.8\n"
     ]
    }
   ],
   "source": [
    "# Basic calculations(division)\n",
    "print(9/5)"
   ]
  },
  {
   "cell_type": "code",
   "execution_count": 24,
   "id": "c5888bce",
   "metadata": {},
   "outputs": [
    {
     "name": "stdout",
     "output_type": "stream",
     "text": [
      "15\n"
     ]
    }
   ],
   "source": [
    "print(695 % 20)"
   ]
  },
  {
   "cell_type": "code",
   "execution_count": 25,
   "id": "5705e51e",
   "metadata": {},
   "outputs": [
    {
     "name": "stdout",
     "output_type": "stream",
     "text": [
      "37\n"
     ]
    }
   ],
   "source": [
    "print(7 + 6 * 5)"
   ]
  },
  {
   "cell_type": "code",
   "execution_count": 26,
   "id": "24cff470",
   "metadata": {},
   "outputs": [
    {
     "name": "stdout",
     "output_type": "stream",
     "text": [
      "47\n"
     ]
    }
   ],
   "source": [
    "print(7 * 6 + 5)"
   ]
  },
  {
   "cell_type": "code",
   "execution_count": 27,
   "id": "9c320839",
   "metadata": {},
   "outputs": [
    {
     "name": "stdout",
     "output_type": "stream",
     "text": [
      "9.6\n"
     ]
    }
   ],
   "source": [
    "print(248 % 100 / 5)"
   ]
  },
  {
   "cell_type": "code",
   "execution_count": 28,
   "id": "eba78272",
   "metadata": {},
   "outputs": [
    {
     "name": "stdout",
     "output_type": "stream",
     "text": [
      "15.75\n"
     ]
    }
   ],
   "source": [
    "print(6 * 3 - 9 / 4)"
   ]
  },
  {
   "cell_type": "code",
   "execution_count": 29,
   "id": "34b9716f",
   "metadata": {},
   "outputs": [
    {
     "name": "stdout",
     "output_type": "stream",
     "text": [
      "-8\n"
     ]
    }
   ],
   "source": [
    "print((5 - 7) * 4)"
   ]
  },
  {
   "cell_type": "code",
   "execution_count": 30,
   "id": "13b6238e",
   "metadata": {},
   "outputs": [
    {
     "name": "stdout",
     "output_type": "stream",
     "text": [
      "9\n"
     ]
    }
   ],
   "source": [
    "print(6 + (18 % (17 - 12)))"
   ]
  },
  {
   "cell_type": "code",
   "execution_count": null,
   "id": "378d7aaa",
   "metadata": {},
   "outputs": [],
   "source": []
  }
 ],
 "metadata": {
  "kernelspec": {
   "display_name": "Python 3 (ipykernel)",
   "language": "python",
   "name": "python3"
  },
  "language_info": {
   "codemirror_mode": {
    "name": "ipython",
    "version": 3
   },
   "file_extension": ".py",
   "mimetype": "text/x-python",
   "name": "python",
   "nbconvert_exporter": "python",
   "pygments_lexer": "ipython3",
   "version": "3.11.5"
  }
 },
 "nbformat": 4,
 "nbformat_minor": 5
}
